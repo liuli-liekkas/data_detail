{
 "cells": [
  {
   "cell_type": "markdown",
   "metadata": {
    "collapsed": true
   },
   "source": [
    "读取文件(一步一步执行，速度较慢，需要耐心等待)"
   ]
  },
  {
   "cell_type": "code",
   "execution_count": 1,
   "metadata": {},
   "outputs": [],
   "source": [
    "import os\n",
    "import openpyxl\n",
    "wb = openpyxl.load_workbook('./检测能力范围(含能源之星).xlsx')"
   ]
  },
  {
   "cell_type": "markdown",
   "metadata": {},
   "source": [
    "创建数据表格test"
   ]
  },
  {
   "cell_type": "code",
   "execution_count": 9,
   "metadata": {},
   "outputs": [],
   "source": [
    "wb.create_sheet('test')\n",
    "wb.save('./检测能力范围(含能源之星).xlsx')"
   ]
  },
  {
   "cell_type": "markdown",
   "metadata": {},
   "source": [
    "录入表格"
   ]
  },
  {
   "cell_type": "code",
   "execution_count": 2,
   "metadata": {},
   "outputs": [],
   "source": [
    "sh1 = wb['检测能力范围']\n",
    "sh2 = wb['设备标准物质']\n",
    "sh3 = wb['test']"
   ]
  },
  {
   "cell_type": "markdown",
   "metadata": {},
   "source": [
    "读取测试项目信息——测试科目，测试条目，测试设备（多）"
   ]
  },
  {
   "cell_type": "code",
   "execution_count": 3,
   "metadata": {},
   "outputs": [],
   "source": [
    "equipment = {}\n",
    "for case in list(sh1.rows)[1323:1359]:\n",
    "    equipment[case[5].value] = [case[14].value, case[22].value]"
   ]
  },
  {
   "cell_type": "markdown",
   "metadata": {},
   "source": [
    "读取测试设备信息——设备编号，设备名称，设备信号，量程，精度，溯源方式"
   ]
  },
  {
   "cell_type": "code",
   "execution_count": 4,
   "metadata": {},
   "outputs": [],
   "source": [
    "message = {}\n",
    "for case in list(sh2.rows)[2:]:\n",
    "    message[case[0].value] = [case[2].value, case[3].value, case[4].value, case[5].value, case[6].value]"
   ]
  },
  {
   "cell_type": "markdown",
   "metadata": {},
   "source": [
    "分解设备编号至新表格"
   ]
  },
  {
   "cell_type": "code",
   "execution_count": 5,
   "metadata": {},
   "outputs": [],
   "source": [
    "n = 0\n",
    "for case in equipment:\n",
    "    if equipment[case][1]:\n",
    "        equip_one = equipment[case][1].split(',')\n",
    "        for i in range(len(equip_one)):\n",
    "            pass\n",
    "            sh3.append([case, equipment[case][0], equip_one[i]])\n",
    "    else:\n",
    "        sh3.append([case, equipment[case][0]])"
   ]
  },
  {
   "cell_type": "markdown",
   "metadata": {},
   "source": [
    "添加设备信息至新表格"
   ]
  },
  {
   "cell_type": "code",
   "execution_count": 6,
   "metadata": {
    "scrolled": true
   },
   "outputs": [
    {
     "name": "stdout",
     "output_type": "stream",
     "text": [
      "<Cell 'test'.C2>\n",
      "<Cell 'test'.C3>\n",
      "<Cell 'test'.C4>\n",
      "<Cell 'test'.C5>\n",
      "<Cell 'test'.C6>\n",
      "<Cell 'test'.C7>\n",
      "<Cell 'test'.C8>\n",
      "<Cell 'test'.C9>\n",
      "<Cell 'test'.C10>\n",
      "<Cell 'test'.C11>\n",
      "<Cell 'test'.C12>\n",
      "<Cell 'test'.C13>\n",
      "<Cell 'test'.C14>\n",
      "<Cell 'test'.C15>\n",
      "<Cell 'test'.C16>\n",
      "<Cell 'test'.C17>\n",
      "<Cell 'test'.C18>\n",
      "<Cell 'test'.C19>\n",
      "<Cell 'test'.C20>\n",
      "<Cell 'test'.C22>\n",
      "<Cell 'test'.C23>\n",
      "<Cell 'test'.C25>\n",
      "<Cell 'test'.C26>\n",
      "<Cell 'test'.C27>\n",
      "<Cell 'test'.C28>\n",
      "<Cell 'test'.C29>\n",
      "<Cell 'test'.C30>\n",
      "<Cell 'test'.C31>\n",
      "<Cell 'test'.C32>\n",
      "<Cell 'test'.C33>\n",
      "<Cell 'test'.C34>\n",
      "<Cell 'test'.C35>\n",
      "<Cell 'test'.C36>\n",
      "<Cell 'test'.C37>\n",
      "<Cell 'test'.C38>\n",
      "<Cell 'test'.C39>\n",
      "<Cell 'test'.C40>\n",
      "<Cell 'test'.C41>\n",
      "<Cell 'test'.C42>\n",
      "<Cell 'test'.C43>\n",
      "<Cell 'test'.C44>\n",
      "<Cell 'test'.C45>\n",
      "<Cell 'test'.C46>\n",
      "<Cell 'test'.C47>\n",
      "<Cell 'test'.C48>\n",
      "<Cell 'test'.C49>\n",
      "<Cell 'test'.C50>\n",
      "<Cell 'test'.C51>\n",
      "<Cell 'test'.C52>\n",
      "<Cell 'test'.C53>\n",
      "<Cell 'test'.C54>\n",
      "<Cell 'test'.C55>\n",
      "<Cell 'test'.C56>\n",
      "<Cell 'test'.C57>\n",
      "<Cell 'test'.C58>\n",
      "<Cell 'test'.C59>\n",
      "<Cell 'test'.C60>\n",
      "<Cell 'test'.C61>\n",
      "<Cell 'test'.C62>\n",
      "<Cell 'test'.C63>\n",
      "<Cell 'test'.C64>\n",
      "<Cell 'test'.C65>\n",
      "<Cell 'test'.C66>\n",
      "<Cell 'test'.C67>\n",
      "<Cell 'test'.C68>\n",
      "<Cell 'test'.C69>\n",
      "<Cell 'test'.C70>\n",
      "<Cell 'test'.C71>\n",
      "<Cell 'test'.C72>\n",
      "<Cell 'test'.C73>\n",
      "<Cell 'test'.C74>\n",
      "<Cell 'test'.C75>\n",
      "<Cell 'test'.C76>\n",
      "<Cell 'test'.C77>\n",
      "<Cell 'test'.C78>\n",
      "<Cell 'test'.C79>\n",
      "<Cell 'test'.C80>\n",
      "<Cell 'test'.C81>\n",
      "<Cell 'test'.C82>\n",
      "<Cell 'test'.C83>\n",
      "<Cell 'test'.C84>\n",
      "<Cell 'test'.C85>\n",
      "<Cell 'test'.C86>\n",
      "<Cell 'test'.C87>\n",
      "<Cell 'test'.C88>\n",
      "<Cell 'test'.C89>\n",
      "<Cell 'test'.C90>\n",
      "<Cell 'test'.C91>\n",
      "<Cell 'test'.C92>\n",
      "<Cell 'test'.C93>\n",
      "<Cell 'test'.C96>\n",
      "<Cell 'test'.C97>\n",
      "<Cell 'test'.C98>\n",
      "<Cell 'test'.C99>\n",
      "<Cell 'test'.C100>\n",
      "<Cell 'test'.C101>\n"
     ]
    }
   ],
   "source": [
    "for num in range(len(list(sh3.rows))):\n",
    "#     print(message)\n",
    "    if sh3.cell(num+1, 3).value:\n",
    "        sh3.cell(num+1, 4).value = message[sh3.cell(num+1, 3).value][0]#设备名称\n",
    "        sh3.cell(num+1, 5).value = message[sh3.cell(num+1, 3).value][1]#设备型号\n",
    "        sh3.cell(num+1, 6).value = message[sh3.cell(num+1, 3).value][2]#设备量程\n",
    "        sh3.cell(num+1, 7).value = message[sh3.cell(num+1, 3).value][3]#设备精度\n",
    "        sh3.cell(num+1, 8).value = message[sh3.cell(num+1, 3).value][4]#设备溯源"
   ]
  },
  {
   "cell_type": "markdown",
   "metadata": {},
   "source": [
    "保存表格"
   ]
  },
  {
   "cell_type": "code",
   "execution_count": 8,
   "metadata": {},
   "outputs": [],
   "source": [
    "wb.save('./检测能力范围(含能源之星).xlsx')"
   ]
  }
 ],
 "metadata": {
  "kernelspec": {
   "display_name": "Python 3",
   "language": "python",
   "name": "python3"
  },
  "language_info": {
   "codemirror_mode": {
    "name": "ipython",
    "version": 3
   },
   "file_extension": ".py",
   "mimetype": "text/x-python",
   "name": "python",
   "nbconvert_exporter": "python",
   "pygments_lexer": "ipython3",
   "version": "3.7.7"
  }
 },
 "nbformat": 4,
 "nbformat_minor": 1
}
