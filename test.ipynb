{
 "cells": [
  {
   "cell_type": "code",
   "execution_count": 1,
   "metadata": {
    "pycharm": {
     "name": "#%%\n"
    }
   },
   "outputs": [],
   "source": [
    "import os\n",
    "import openpyxl\n",
    "import numpy as np\n",
    "import pymysql"
   ]
  },
  {
   "cell_type": "code",
   "execution_count": 2,
   "metadata": {
    "pycharm": {
     "name": "#%%\n"
    }
   },
   "outputs": [],
   "source": [
    "conn = pymysql.connect(host='127.0.0.1', user='root', password='ll891119', port=3306, db='furthereast')\n",
    "cur = conn.cursor()"
   ]
  },
  {
   "cell_type": "code",
   "execution_count": 3,
   "metadata": {
    "pycharm": {
     "name": "#%%\n"
    }
   },
   "outputs": [],
   "source": [
    "wb = openpyxl.load_workbook('test.xlsx')\n",
    "sh = wb['Sheet1']"
   ]
  },
  {
   "cell_type": "code",
   "execution_count": 4,
   "metadata": {
    "pycharm": {
     "name": "#%%\n"
    }
   },
   "outputs": [],
   "source": [
    "department = []\n",
    "for case in list(sh.rows)[1:]:\n",
    "    if case[7].value not in department:\n",
    "        department.append(case[7].value)"
   ]
  },
  {
   "cell_type": "code",
   "execution_count": 5,
   "metadata": {
    "pycharm": {
     "name": "#%%\n"
    }
   },
   "outputs": [],
   "source": [
    "for case in department:\n",
    "    sql = \"INSERT INTO TEST(Department) VALUES ('%s')\" % case\n",
    "    cur.execute(sql)\n",
    "conn.commit()"
   ]
  },
  {
   "cell_type": "code",
   "execution_count": 11,
   "metadata": {
    "pycharm": {
     "name": "#%%\n"
    }
   },
   "outputs": [
    {
     "ename": "ValueError",
     "evalue": "unsupported format character ''' (0x27) at index 64",
     "output_type": "error",
     "traceback": [
      "\u001B[1;31m---------------------------------------------------------------------------\u001B[0m",
      "\u001B[1;31mValueError\u001B[0m                                Traceback (most recent call last)",
      "\u001B[1;32m<ipython-input-11-05263f1e7e80>\u001B[0m in \u001B[0;36m<module>\u001B[1;34m\u001B[0m\n\u001B[0;32m      1\u001B[0m \u001B[1;32mfor\u001B[0m \u001B[0mcase\u001B[0m \u001B[1;32min\u001B[0m \u001B[0mlist\u001B[0m\u001B[1;33m(\u001B[0m\u001B[0msh\u001B[0m\u001B[1;33m.\u001B[0m\u001B[0mrows\u001B[0m\u001B[1;33m)\u001B[0m\u001B[1;33m[\u001B[0m\u001B[1;36m1\u001B[0m\u001B[1;33m:\u001B[0m\u001B[1;33m]\u001B[0m\u001B[1;33m:\u001B[0m\u001B[1;33m\u001B[0m\u001B[1;33m\u001B[0m\u001B[0m\n\u001B[1;32m----> 2\u001B[1;33m     \u001B[0msql1\u001B[0m \u001B[1;33m=\u001B[0m \u001B[1;34m\"UPDATE TEST SET BusinessNum = BusinessNum+1 WHERE Department='s%'\"\u001B[0m \u001B[1;33m%\u001B[0m \u001B[0mcase\u001B[0m\u001B[1;33m[\u001B[0m\u001B[1;36m7\u001B[0m\u001B[1;33m]\u001B[0m\u001B[1;33m.\u001B[0m\u001B[0mvalue\u001B[0m\u001B[1;33m\u001B[0m\u001B[1;33m\u001B[0m\u001B[0m\n\u001B[0m\u001B[0;32m      3\u001B[0m     \u001B[0mcur\u001B[0m\u001B[1;33m.\u001B[0m\u001B[0mexecute\u001B[0m\u001B[1;33m(\u001B[0m\u001B[0msql1\u001B[0m\u001B[1;33m)\u001B[0m\u001B[1;33m\u001B[0m\u001B[1;33m\u001B[0m\u001B[0m\n\u001B[0;32m      4\u001B[0m \u001B[0mconn\u001B[0m\u001B[1;33m.\u001B[0m\u001B[0mcommit\u001B[0m\u001B[1;33m(\u001B[0m\u001B[1;33m)\u001B[0m\u001B[1;33m\u001B[0m\u001B[1;33m\u001B[0m\u001B[0m\n\u001B[0;32m      5\u001B[0m \u001B[1;33m\u001B[0m\u001B[0m\n",
      "\u001B[1;31mValueError\u001B[0m: unsupported format character ''' (0x27) at index 64"
     ]
    }
   ],
   "source": [
    "for case in list(sh.rows)[1:]:\n",
    "    sql1 = \"UPDATE TEST SET BusinessNum = BusinessNum+1 WHERE Department='s%'\" % case[7].value\n",
    "    cur.execute(sql1)\n",
    "conn.commit()"
   ]
  },
  {
   "cell_type": "code",
   "execution_count": 2,
   "metadata": {
    "pycharm": {
     "name": "#%%\n"
    }
   },
   "outputs": [],
   "source": [
    "os.makedirs('./document')"
   ]
  },
  {
   "cell_type": "code",
   "execution_count": 6,
   "metadata": {
    "pycharm": {
     "name": "#%%\n"
    }
   },
   "outputs": [
    {
     "name": "stdout",
     "output_type": "stream",
     "text": [
      "['工业无锡营业店', '工业南通营业店', '工业常州营业店', '工业南京营业店', '工业青岛营业店', '工业济南营业店', '工业扬州营业店', '工业徐州营业店', '工业沈阳营业店', '工业长春营业店', '工业大连营业店', '工业盐城营业店', '工业临沂营业店', '工业烟台营业店', '工业苏州吴江营业店', '工业哈尔滨营业店', '工业南京浦口营业店', '工业济宁营业店', '工业郑州营业店', '工业天津营业店', '工业北京营业店', '工业太原营业店', '工业西安营业店', '工业北京大兴营业店', '工业兰州营业店', '工业天津滨海营业店', '工业石家庄营业店', '工业洛阳营业店', '工业乌鲁木齐营业店', '工业呼和浩特营业店', '工业上海中心营业店', '工业杭州营业店', '工业宁波营业店', '工业温州营业店', '工业上海浦东营业店', '工业合肥营业店', '工业蚌埠营业店', '工业金华营业店', '工业嘉兴营业店', '工业六安营业店', '工业上海金山营业店', '工业芜湖营业店', '工业武汉营业店', '工业重庆营业店', '工业成都营业店', '工业荆门营业店', '工业武汉东西湖营业店', '工业襄阳营业店', '工业宜昌营业店', '工业重庆永川营业店', '工业黄石营业店', '工业宜宾营业店', '工业绵阳营业店', '工业十堰营业店', '工业成都青白江营业店', '工业南充营业店', '工业南昌营业店', '工业赣州营业店', '工业广州营业店', '工业厦门营业店', '工业深圳营业店', '工业南宁营业店', '工业福州营业店', '工业长沙营业店', '工业珠海营业店', '工业肇庆营业店', '工业贵阳营业店', '工业昆明营业店', '工业东莞营业店', '工业湛江营业店', '工业广州花都营业店', '工业海口营业店', '工业岳阳营业店', '工业柳州营业店', '工业泉州营业店', '工业钦州营业店', '工业遵义营业店', '工业衡阳营业店', '工业九江营业店', '工业上饶营业店', '工业宁德营业店', '工业江门营业店', '工业特殊设备营业店', '工业销售营业店']\n"
     ]
    }
   ],
   "source": [
    "wb = openpyxl.load_workbook('./document_name.xlsx')\n",
    "sh = wb['Sheet1']\n",
    "document = []\n",
    "for case in list(sh.rows)[1:]:\n",
    "    document.append(case[0].value)\n",
    "print(document)"
   ]
  },
  {
   "cell_type": "code",
   "execution_count": 7,
   "metadata": {
    "pycharm": {
     "name": "#%%\n"
    }
   },
   "outputs": [],
   "source": [
    "for case in document:\n",
    "    os.makedirs('././document/{0}'.format(case))"
   ]
  },
  {
   "cell_type": "code",
   "execution_count": 8,
   "metadata": {
    "pycharm": {
     "name": "#%%\n"
    }
   },
   "outputs": [
    {
     "name": "stdout",
     "output_type": "stream",
     "text": [
      "84\n"
     ]
    }
   ],
   "source": [
    "print(len(document))"
   ]
  },
  {
   "cell_type": "code",
   "execution_count": null,
   "metadata": {
    "pycharm": {
     "name": "#%%\n"
    }
   },
   "outputs": [],
   "source": []
  }
 ],
 "metadata": {
  "kernelspec": {
   "display_name": "PyCharm (data_detail)",
   "language": "python",
   "name": "pycharm-2bcfb4d0"
  },
  "language_info": {
   "codemirror_mode": {
    "name": "ipython",
    "version": 3
   },
   "file_extension": ".py",
   "mimetype": "text/x-python",
   "name": "python",
   "nbconvert_exporter": "python",
   "pygments_lexer": "ipython3",
   "version": "3.7.7"
  }
 },
 "nbformat": 4,
 "nbformat_minor": 1
}