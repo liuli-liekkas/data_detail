{
 "cells": [
  {
   "cell_type": "code",
   "execution_count": 1,
   "outputs": [
    {
     "name": "stdout",
     "output_type": "stream",
     "text": [
      "D:\\files\\python_learn\\data_detail\n"
     ]
    }
   ],
   "source": [
    "import os\n",
    "print(os.getcwd())"
   ],
   "metadata": {
    "collapsed": false,
    "pycharm": {
     "name": "#%%\n"
    }
   }
  },
  {
   "cell_type": "code",
   "execution_count": 3,
   "outputs": [],
   "source": [
    "import openpyxl\n",
    "wb = openpyxl.load_workbook('test.xlsx')"
   ],
   "metadata": {
    "collapsed": false,
    "pycharm": {
     "name": "#%%\n"
    }
   }
  },
  {
   "cell_type": "code",
   "execution_count": 5,
   "outputs": [],
   "source": [
    "sh = wb['Sheet1']"
   ],
   "metadata": {
    "collapsed": false,
    "pycharm": {
     "name": "#%%\n"
    }
   }
  },
  {
   "cell_type": "code",
   "execution_count": 29,
   "outputs": [
    {
     "name": "stdout",
     "output_type": "stream",
     "text": [
      "(<Cell 'Sheet1'.A6>, <Cell 'Sheet1'.B6>, <Cell 'Sheet1'.C6>, <Cell 'Sheet1'.D6>, <Cell 'Sheet1'.E6>, <Cell 'Sheet1'.F6>, <Cell 'Sheet1'.G6>, <Cell 'Sheet1'.H6>, <Cell 'Sheet1'.I6>, <Cell 'Sheet1'.J6>, <Cell 'Sheet1'.K6>, <Cell 'Sheet1'.L6>, <Cell 'Sheet1'.M6>, <Cell 'Sheet1'.N6>, <Cell 'Sheet1'.O6>, <Cell 'Sheet1'.P6>, <Cell 'Sheet1'.Q6>, <Cell 'Sheet1'.R6>, <Cell 'Sheet1'.S6>, <Cell 'Sheet1'.T6>, <Cell 'Sheet1'.U6>, <Cell 'Sheet1'.V6>, <Cell 'Sheet1'.W6>, <Cell 'Sheet1'.X6>, <Cell 'Sheet1'.Y6>, <Cell 'Sheet1'.Z6>, <Cell 'Sheet1'.AA6>, <Cell 'Sheet1'.AB6>, <Cell 'Sheet1'.AC6>, <Cell 'Sheet1'.AD6>, <Cell 'Sheet1'.AE6>, <Cell 'Sheet1'.AF6>, <Cell 'Sheet1'.AG6>, <Cell 'Sheet1'.AH6>, <Cell 'Sheet1'.AI6>, <Cell 'Sheet1'.AJ6>, <Cell 'Sheet1'.AK6>, <Cell 'Sheet1'.AL6>, <Cell 'Sheet1'.AM6>, <Cell 'Sheet1'.AN6>, <Cell 'Sheet1'.AO6>, <Cell 'Sheet1'.AP6>, <Cell 'Sheet1'.AQ6>, <Cell 'Sheet1'.AR6>, <Cell 'Sheet1'.AS6>, <Cell 'Sheet1'.AT6>, <Cell 'Sheet1'.AU6>, <Cell 'Sheet1'.AV6>, <Cell 'Sheet1'.AW6>, <Cell 'Sheet1'.AX6>, <Cell 'Sheet1'.AY6>, <Cell 'Sheet1'.AZ6>, <Cell 'Sheet1'.BA6>, <Cell 'Sheet1'.BB6>, <Cell 'Sheet1'.BC6>, <Cell 'Sheet1'.BD6>, <Cell 'Sheet1'.BE6>)\n"
     ]
    }
   ],
   "source": [
    "# ce = list(sh.rows)[5]\n",
    "print(list(sh.rows)[5])\n",
    "# type(ce.value)"
   ],
   "metadata": {
    "collapsed": false,
    "pycharm": {
     "name": "#%%\n"
    }
   }
  },
  {
   "cell_type": "code",
   "execution_count": 41,
   "outputs": [
    {
     "name": "stdout",
     "output_type": "stream",
     "text": [
      "['工业-无锡营业店', '工业-南宁营业店', '工业-杭州营业店', '工业-扬州营业店', '工业-福州营业店', '工业-上海中心营业店', '工业-长沙营业店', '工业-合肥营业店', '工业-南昌营业店', '工业-珠海营业店', '工业-南通营业店', '工业-长春营业支店', '工业-荆门营业支店', '工业-北京营业店', '工业-重庆营业店', '工业-温州营业支店', '工业-郑州营业店', '工业-深圳营业店', '工业-武汉营业店', '工业-南京营业店']\n",
      "20\n"
     ]
    }
   ],
   "source": [
    "department = []\n",
    "for case in list(sh.columns)[7][1:]:\n",
    "    value = case.value\n",
    "    if value not in department:\n",
    "        department.append(value)\n",
    "print(department)\n",
    "print(len(department))"
   ],
   "metadata": {
    "collapsed": false,
    "pycharm": {
     "name": "#%%\n"
    }
   }
  },
  {
   "cell_type": "code",
   "execution_count": null,
   "outputs": [],
   "source": [
    "\n"
   ],
   "metadata": {
    "collapsed": false,
    "pycharm": {
     "name": "#%%\n"
    }
   }
  }
 ],
 "metadata": {
  "kernelspec": {
   "name": "pycharm-2bcfb4d0",
   "language": "python",
   "display_name": "PyCharm (data_detail)"
  },
  "language_info": {
   "codemirror_mode": {
    "name": "ipython",
    "version": 2
   },
   "file_extension": ".py",
   "mimetype": "text/x-python",
   "name": "python",
   "nbconvert_exporter": "python",
   "pygments_lexer": "ipython2",
   "version": "2.7.6"
  }
 },
 "nbformat": 4,
 "nbformat_minor": 0
}