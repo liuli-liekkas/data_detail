{
 "cells": [
  {
   "cell_type": "code",
   "execution_count": 1,
   "metadata": {},
   "outputs": [],
   "source": [
    "import os \n",
    "import openpyxl\n",
    "wb = openpyxl.load_workbook('./物流费用运输台账-2019年3店.xlsx')"
   ]
  },
  {
   "cell_type": "code",
   "execution_count": 5,
   "metadata": {},
   "outputs": [],
   "source": [
    "sh_2019 = wb['原表']\n",
    "sh_result = wb['test']"
   ]
  },
  {
   "cell_type": "code",
   "execution_count": 10,
   "metadata": {},
   "outputs": [],
   "source": [
    "for case in list(sh_2019.rows)[2:]:\n",
    "    number1 = case[0].value#物流运输单编号\n",
    "    number2 = case[2].value#物流运输单单据日期\n",
    "    number3 = case[3].value#订单编号\n",
    "    number4 = case[4].value#项目名称\n",
    "    number5 = case[5].value#进退场\n",
    "    number6 = case[12].value#设备编号\n",
    "    number7 = case[13].value#承运商\n",
    "    number8 = case[22].value#参考里程数\n",
    "    number9 = case[26].value#车型\n",
    "    number10 = case[31].value#费用金额\n",
    "    number11 = case[36].value#参考价\n",
    "    number12 = case[37].value#盈亏\n",
    "    number13 = case[38].value#盈亏比例\n",
    "    number14 = case[42].value#实际起运时间\n",
    "    number15 = case[43].value#实际到达时间\n",
    "    number16 = case[44].value#物流安排人\n",
    "    number17 = case[45].value#车牌号\n",
    "    number18 = case[46].value#司机\n",
    "    number19 = case[47].value#司机电话\n",
    "    if number6 != None:\n",
    "        number6_detail = number6.split(',')\n",
    "        for num in range(len(number6_detail)):\n",
    "            sh_result.append([number1, number2, number3, number4, \n",
    "                             number5, number6_detail[num], number7, number8,\n",
    "                             number9, number10, number11, number12,\n",
    "                             number13, number14, number15, number16,\n",
    "                             number17, number18, number19])\n",
    "    else:\n",
    "        sh_result.append([number1, number2, number3, number4, \n",
    "                             number5, None, number7, number8,\n",
    "                             number9, number10, number11, number12,\n",
    "                             number13, number14, number15, number16,\n",
    "                             number17, number18, number19])\n"
   ]
  },
  {
   "cell_type": "code",
   "execution_count": 11,
   "metadata": {},
   "outputs": [],
   "source": [
    "wb.save('./物流费用运输台账-2019年3店.xlsx')"
   ]
  },
  {
   "cell_type": "code",
   "execution_count": null,
   "metadata": {},
   "outputs": [],
   "source": []
  }
 ],
 "metadata": {
  "kernelspec": {
   "display_name": "Python 3",
   "language": "python",
   "name": "python3"
  },
  "language_info": {
   "codemirror_mode": {
    "name": "ipython",
    "version": 3
   },
   "file_extension": ".py",
   "mimetype": "text/x-python",
   "name": "python",
   "nbconvert_exporter": "python",
   "pygments_lexer": "ipython3",
   "version": "3.7.7"
  }
 },
 "nbformat": 4,
 "nbformat_minor": 1
}